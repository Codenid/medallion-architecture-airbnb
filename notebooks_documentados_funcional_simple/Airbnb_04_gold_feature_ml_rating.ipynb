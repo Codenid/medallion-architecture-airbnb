{
 "cells": [
  {
   "cell_type": "code",
   "execution_count": 0,
   "metadata": {
    "application/vnd.databricks.v1+cell": {
     "cellMetadata": {
      "byteLimit": 2048000,
      "rowLimit": 10000
     },
     "inputWidgets": {},
     "nuid": "fc873028-2f94-4b44-9a1a-85721594e5f6",
     "showTitle": false,
     "tableResultSettingsMap": {},
     "title": ""
    }
   },
   "outputs": [],
   "source": [
    "-- =========================================================\n",
    "-- GOLD: ML - feature_ml_rating\n",
    "-- Objetivo: predecir review_scores_rating (target_rating)\n",
    "-- Fuentes: airbnb.silver.listings, airbnb.silver.hosts, airbnb.silver.listing_amenities\n",
    "-- =========================================================\n",
    "\n",
    "-- 1) Asegurar esquema Gold\n",
    "CREATE SCHEMA IF NOT EXISTS airbnb.gold;\n",
    "\n",
    "-- 2) Construcción de features + target\n",
    "CREATE OR REPLACE TABLE airbnb.gold.feature_ml_rating AS\n",
    "WITH amen AS (\n",
    "  SELECT\n",
    "    bk_listing_id,\n",
    "    COUNT(*) AS num_amenities\n",
    "  FROM airbnb.silver.listing_amenities\n",
    "  GROUP BY bk_listing_id\n",
    ")\n",
    "SELECT\n",
    "  /* Usamos la clave de negocio como identificador estable */\n",
    "  l.bk_listing_id                                  AS listing_id,\n",
    "\n",
    "  -- ===== TARGET =====\n",
    "  CAST(l.review_scores_rating AS INT)              AS target_rating,\n",
    "\n",
    "  -- ===== FEATURES NUMÉRICAS =====\n",
    "  TRY_CAST(l.price AS DECIMAL(10,2))               AS price,\n",
    "  TRY_CAST(l.accommodates AS INT)                  AS accommodates,\n",
    "  TRY_CAST(l.bedrooms AS INT)                      AS bedrooms,\n",
    "  TRY_CAST(l.beds AS INT)                          AS beds,\n",
    "  TRY_CAST(l.bathrooms AS DECIMAL(3,1))            AS bathrooms,\n",
    "  TRY_CAST(l.number_of_reviews AS INT)             AS number_of_reviews,\n",
    "  COALESCE(a.num_amenities, 0)                     AS num_amenities,\n",
    "\n",
    "  -- ===== FEATURES CATEGÓRICAS / BOOLEANAS =====\n",
    "  CASE\n",
    "    WHEN CAST(h.host_is_superhost AS STRING) IN ('true','True','1')  THEN TRUE\n",
    "    WHEN CAST(h.host_is_superhost AS STRING) IN ('false','False','0') THEN FALSE\n",
    "    ELSE TRY_CAST(h.host_is_superhost AS BOOLEAN)\n",
    "  END                                              AS host_is_superhost,\n",
    "\n",
    "  l.property_type,\n",
    "  l.room_type,\n",
    "  l.country\n",
    "\n",
    "FROM airbnb.silver.listings l\n",
    "LEFT JOIN airbnb.silver.hosts h\n",
    "  -- Unión por surrogate si existe en ambas, de lo contrario por business key\n",
    "  ON h.host_sk = l.host_sk\n",
    "  -- OR h.bk_host_id = l.bk_host_id   -- (alternativa por clave de negocio, si lo prefieres)\n",
    "LEFT JOIN amen a\n",
    "  ON a.bk_listing_id = l.bk_listing_id\n",
    "\n",
    "-- 3) Filtros mínimos de calidad\n",
    "WHERE l.review_scores_rating IS NOT NULL\n",
    "  AND l.price IS NOT NULL\n",
    "  AND TRY_CAST(l.price AS DECIMAL(10,2)) > 0;\n"
   ]
  }
 ],
 "metadata": {
  "application/vnd.databricks.v1+notebook": {
   "computePreferences": {
    "hardware": {
     "accelerator": null,
     "gpuPoolId": null,
     "memory": null
    }
   },
   "dashboards": [],
   "environmentMetadata": {
    "base_environment": "",
    "environment_version": "4"
   },
   "inputWidgetPreferences": null,
   "language": "sql",
   "notebookMetadata": {
    "pythonIndentUnit": 4
   },
   "notebookName": "Airbnb_04_gold_feature_ml_rating",
   "widgets": {}
  },
  "language_info": {
   "name": "sql"
  }
 },
 "nbformat": 4,
 "nbformat_minor": 0
}