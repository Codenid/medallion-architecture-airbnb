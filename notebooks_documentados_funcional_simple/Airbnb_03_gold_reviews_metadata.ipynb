{
 "cells": [
  {
   "cell_type": "markdown",
   "metadata": {},
   "source": [
    "# Metadata Gold\n",
    "\n",
    "**Capa:** Gold\n",
    "\n",
    "---\n"
   ]
  },
  {
   "cell_type": "markdown",
   "metadata": {},
   "source": [
    "### Step 1\n",
    "**Objetivo:** Define las tablas finales de la capa Gold con métricas e indicadores.\n",
    "\n",
    "**Resumen Tablas:**\n",
    "- airbnb.gold.listing_score\n",
    "- airbnb.gold.host_performance\n",
    "- airbnb.gold.city_market\n",
    "- airbnb.gold.amenity_popularity\n",
    "\n",
    "---\n"
   ]
  },
  {
   "cell_type": "code",
   "execution_count": 0,
   "metadata": {
    "application/vnd.databricks.v1+cell": {
     "cellMetadata": {
      "byteLimit": 2048000,
      "rowLimit": 10000
     },
     "inputWidgets": {},
     "nuid": "fa5f9bfc-4363-4c9a-8e5e-6f2f1b24cee7",
     "showTitle": false,
     "tableResultSettingsMap": {},
     "title": ""
    }
   },
   "outputs": [],
   "source": [
    "-- -------------------------------------------\n",
    "-- GOLD.LISTING_SCORE  (hecho por listing SK)\n",
    "-- -------------------------------------------\n",
    "CREATE OR REPLACE TABLE airbnb.gold.listing_score (\n",
    "  listing_sk BIGINT,\n",
    "  city STRING,\n",
    "  country STRING,\n",
    "\n",
    "  avg_rating DOUBLE,\n",
    "  total_reviews INT,\n",
    "  price DECIMAL(12,2),\n",
    "  reviews_per_month DOUBLE,\n",
    "  review_recency_days INT,\n",
    "\n",
    "  ingest_ts TIMESTAMP\n",
    ")\n",
    "USING DELTA\n",
    "PARTITIONED BY (country)\n",
    "TBLPROPERTIES (\n",
    "  'delta.autoOptimize.optimizeWrite'='true',\n",
    "  'delta.autoOptimize.autoCompact'='true'\n",
    ");\n",
    "\n",
    "-- -------------------------------------------\n",
    "-- GOLD.HOST_PERFORMANCE  (agregado por host SK)\n",
    "-- -------------------------------------------\n",
    "CREATE OR REPLACE TABLE airbnb.gold.host_performance (\n",
    "  host_sk BIGINT,\n",
    "  host_name STRING,\n",
    "  country STRING,\n",
    "\n",
    "  total_listings INT,\n",
    "  avg_rating DOUBLE,\n",
    "  avg_price DECIMAL(12,2),\n",
    "  total_reviews INT,\n",
    "  superhost_rate DOUBLE,\n",
    "\n",
    "  ingest_ts TIMESTAMP\n",
    ")\n",
    "USING DELTA\n",
    "PARTITIONED BY (country)\n",
    "TBLPROPERTIES (\n",
    "  'delta.autoOptimize.optimizeWrite'='true',\n",
    "  'delta.autoOptimize.autoCompact'='true'\n",
    ");\n",
    "\n",
    "-- -------------------------------------------\n",
    "-- GOLD.CITY_MARKET  (KPIs por ciudad/país)\n",
    "-- -------------------------------------------\n",
    "CREATE OR REPLACE TABLE airbnb.gold.city_market (\n",
    "  city STRING,\n",
    "  country STRING,\n",
    "\n",
    "  total_listings INT,\n",
    "  avg_price DECIMAL(12,2),\n",
    "  avg_rating DOUBLE,\n",
    "  total_reviews INT,\n",
    "  active_hosts INT,\n",
    "  top_amenities ARRAY<STRING>,\n",
    "\n",
    "  ingest_ts TIMESTAMP\n",
    ")\n",
    "USING DELTA\n",
    "PARTITIONED BY (country)\n",
    "TBLPROPERTIES (\n",
    "  'delta.autoOptimize.optimizeWrite'='true',\n",
    "  'delta.autoOptimize.autoCompact'='true'\n",
    ");\n",
    "\n",
    "-- -------------------------------------------\n",
    "-- GOLD.AMENITY_POPULARITY  (por amenity SK)\n",
    "-- -------------------------------------------\n",
    "CREATE OR REPLACE TABLE airbnb.gold.amenity_popularity (\n",
    "  amenity_sk BIGINT,\n",
    "  country STRING,\n",
    "\n",
    "  listings_with_amenity INT,\n",
    "  avg_rating DOUBLE,\n",
    "  avg_price DECIMAL(12,2),\n",
    "\n",
    "  ingest_ts TIMESTAMP\n",
    ")\n",
    "USING DELTA\n",
    "PARTITIONED BY (country)\n",
    "TBLPROPERTIES (\n",
    "  'delta.autoOptimize.optimizeWrite'='true',\n",
    "  'delta.autoOptimize.autoCompact'='true'\n",
    ");\n"
   ]
  }
 ],
 "metadata": {
  "application/vnd.databricks.v1+notebook": {
   "computePreferences": null,
   "dashboards": [],
   "environmentMetadata": {
    "base_environment": "",
    "environment_version": "4"
   },
   "inputWidgetPreferences": null,
   "language": "sql",
   "notebookMetadata": {
    "pythonIndentUnit": 4
   },
   "notebookName": "Airbnb_03_gold_reviews_metadata",
   "widgets": {}
  },
  "language_info": {
   "name": "sql"
  }
 },
 "nbformat": 4,
 "nbformat_minor": 0
}
