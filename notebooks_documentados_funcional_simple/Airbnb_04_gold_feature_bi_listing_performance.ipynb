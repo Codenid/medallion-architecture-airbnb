{
 "cells": [
  {
   "cell_type": "code",
   "execution_count": 0,
   "metadata": {
    "application/vnd.databricks.v1+cell": {
     "cellMetadata": {
      "byteLimit": 2048000,
      "rowLimit": 10000
     },
     "inputWidgets": {},
     "nuid": "fc873028-2f94-4b44-9a1a-85721594e5f6",
     "showTitle": false,
     "tableResultSettingsMap": {},
     "title": ""
    }
   },
   "outputs": [],
   "source": [
    "-- ==============================================\n",
    "-- GOLD / BI: Vista base para Power BI\n",
    "-- Nombre: airbnb.gold.feature_bi_listing_performance\n",
    "-- Objetivo: Fuente única para tableros (Import o DirectQuery)\n",
    "-- Dependencias: silver.listings, silver.hosts, silver.reviews, silver.listing_amenities\n",
    "-- ==============================================\n",
    "\n",
    "CREATE SCHEMA IF NOT EXISTS airbnb.gold;\n",
    "\n",
    "CREATE OR REPLACE VIEW airbnb.gold.feature_bi_listing_performance AS\n",
    "WITH amen AS (\n",
    "  SELECT\n",
    "    bk_listing_id,\n",
    "    COUNT(*) AS num_amenities\n",
    "  FROM airbnb.silver.listing_amenities\n",
    "  GROUP BY bk_listing_id\n",
    "),\n",
    "rev AS (\n",
    "  SELECT\n",
    "    bk_listing_id,\n",
    "    COUNT(*)               AS total_reviews,\n",
    "    MAX(review_date)       AS last_review_date\n",
    "  FROM airbnb.silver.reviews\n",
    "  GROUP BY bk_listing_id\n",
    ")\n",
    "SELECT\n",
    "  -- Identidad\n",
    "  l.bk_listing_id                                  AS listing_id,\n",
    "  h.host_name,\n",
    "\n",
    "  -- Dimensiones\n",
    "  l.country,\n",
    "  l.property_type,\n",
    "  l.room_type,\n",
    "\n",
    "  -- Métricas clave\n",
    "  TRY_CAST(l.review_scores_rating AS INT)          AS avg_review_rating,\n",
    "  COALESCE(r.total_reviews, 0)                     AS total_reviews,\n",
    "  TRY_CAST(l.price AS DECIMAL(10,2))               AS avg_price_per_night,\n",
    "  r.last_review_date,\n",
    "  COALESCE(a.num_amenities, 0)                     AS num_amenities\n",
    "\n",
    "FROM airbnb.silver.listings l\n",
    "LEFT JOIN airbnb.silver.hosts h\n",
    "  ON h.host_sk = l.host_sk       -- si prefieres negocio: h.bk_host_id = l.bk_host_id\n",
    "LEFT JOIN amen a\n",
    "  ON a.bk_listing_id = l.bk_listing_id\n",
    "LEFT JOIN rev r\n",
    "  ON r.bk_listing_id = l.bk_listing_id\n",
    "WHERE l.price IS NOT NULL\n",
    "  AND TRY_CAST(l.price AS DECIMAL(10,2)) > 0;\n"
   ]
  }
 ],
 "metadata": {
  "application/vnd.databricks.v1+notebook": {
   "computePreferences": {
    "hardware": {
     "accelerator": null,
     "gpuPoolId": null,
     "memory": null
    }
   },
   "dashboards": [],
   "environmentMetadata": {
    "base_environment": "",
    "environment_version": "4"
   },
   "inputWidgetPreferences": null,
   "language": "sql",
   "notebookMetadata": {
    "pythonIndentUnit": 4
   },
   "notebookName": "Airbnb_04_gold_feature_bi_listing_performance",
   "widgets": {}
  },
  "language_info": {
   "name": "sql"
  }
 },
 "nbformat": 4,
 "nbformat_minor": 0
}